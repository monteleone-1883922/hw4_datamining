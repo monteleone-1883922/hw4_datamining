{
 "cells": [
  {
   "cell_type": "code",
   "execution_count": null,
   "id": "initial_id",
   "metadata": {
    "collapsed": true
   },
   "outputs": [],
   "source": [
    "!pip install torch lightning numpy kaggle wandb"
   ]
  },
  {
   "cell_type": "code",
   "execution_count": null,
   "outputs": [],
   "source": [
    "from google.colab import files\n",
    "\n",
    "# Carica il file kaggle.json\n",
    "files.upload()\n"
   ],
   "metadata": {
    "collapsed": false
   },
   "id": "6faa4534c499941c"
  },
  {
   "cell_type": "code",
   "execution_count": null,
   "outputs": [],
   "source": [
    "!mkdir ~/.kaggle\n",
    "!mv kaggle.json ~/.kaggle/\n",
    "!chmod 600 ~/.kaggle/kaggle.json\n"
   ],
   "metadata": {
    "collapsed": false
   },
   "id": "864e92886d507f8"
  },
  {
   "cell_type": "code",
   "execution_count": null,
   "outputs": [],
   "source": [
    "!kaggle datasets download -d ealaxi/paysim1\n",
    "!unzip paysim1.zip"
   ],
   "metadata": {
    "collapsed": false
   },
   "id": "6d9167a862900129"
  },
  {
   "cell_type": "code",
   "execution_count": null,
   "outputs": [],
   "source": [
    "import pandas as pd\n",
    "from torch.utils.data import Dataset, DataLoader"
   ],
   "metadata": {
    "collapsed": false
   },
   "id": "f7010a4768825241"
  },
  {
   "cell_type": "code",
   "execution_count": null,
   "outputs": [],
   "source": [
    "# UTILS FUNCTIONS\n",
    "\n",
    "def load_dataframe( dataset_file : str):\n",
    "    return pd.read_csv(dataset_file)\n",
    "\n",
    "\n",
    "def find_null_or_empty_records( dataframe: pd.DataFrame):\n",
    "    for index, row in dataframe.iterrows():\n",
    "        # Controlla se ci sono valori nulli o vuoti nel record\n",
    "        if row.isnull().any() or any(map(lambda x: x == '', row)):\n",
    "            # Stampa il record\n",
    "            print(f\"Record con valori nulli o vuoti:\\n{row}\\n\")\n"
   ],
   "metadata": {
    "collapsed": false
   },
   "id": "eb7be9ce4b817dc4"
  },
  {
   "cell_type": "code",
   "execution_count": null,
   "outputs": [],
   "source": [
    "class FraudDetectionDataset(Dataset):\n",
    "    \n",
    "    def __init__(self,dataset_file : str):\n",
    "        self.raw_data = load_dataframe(dataset_file)\n",
    "        \n",
    "    \n",
    "    \n",
    "    def analize_data(self):\n",
    "        print(\"----HEAD----\")\n",
    "        print(self.raw_data.head())\n",
    "        print(\"----INFO----\")\n",
    "        print(self.raw_data.info())\n",
    "        print(\"----DESCRIBE----\")\n",
    "        print(self.raw_data.describe())\n",
    "        find_null_or_empty_records(self.raw_data)\n",
    "        \n",
    "    \n",
    "\n",
    "\n",
    "        \n",
    "\n",
    "        \n",
    "    "
   ],
   "metadata": {
    "collapsed": false
   },
   "id": "98664b7b7cee0491"
  }
 ],
 "metadata": {
  "kernelspec": {
   "display_name": "Python 3",
   "language": "python",
   "name": "python3"
  },
  "language_info": {
   "codemirror_mode": {
    "name": "ipython",
    "version": 2
   },
   "file_extension": ".py",
   "mimetype": "text/x-python",
   "name": "python",
   "nbconvert_exporter": "python",
   "pygments_lexer": "ipython2",
   "version": "2.7.6"
  }
 },
 "nbformat": 4,
 "nbformat_minor": 5
}
