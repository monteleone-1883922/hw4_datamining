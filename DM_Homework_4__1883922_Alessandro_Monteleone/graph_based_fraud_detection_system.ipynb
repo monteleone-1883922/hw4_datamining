{
  "cells": [
    {
      "cell_type": "code",
      "execution_count": null,
      "id": "initial_id",
      "metadata": {
        "collapsed": true,
        "id": "initial_id",
        "outputId": "5b0c0470-b432-45da-f8f5-4843f508083f",
        "colab": {
          "base_uri": "https://localhost:8080/"
        }
      },
      "outputs": [
        {
          "output_type": "stream",
          "name": "stdout",
          "text": [
            "Requirement already satisfied: torch in /usr/local/lib/python3.10/dist-packages (2.1.0+cu121)\n",
            "Collecting lightning\n",
            "  Downloading lightning-2.1.3-py3-none-any.whl (2.0 MB)\n",
            "\u001b[2K     \u001b[90m━━━━━━━━━━━━━━━━━━━━━━━━━━━━━━━━━━━━━━━━\u001b[0m \u001b[32m2.0/2.0 MB\u001b[0m \u001b[31m5.3 MB/s\u001b[0m eta \u001b[36m0:00:00\u001b[0m\n",
            "\u001b[?25hRequirement already satisfied: numpy in /usr/local/lib/python3.10/dist-packages (1.23.5)\n",
            "Requirement already satisfied: kaggle in /usr/local/lib/python3.10/dist-packages (1.5.16)\n",
            "Collecting wandb\n",
            "  Downloading wandb-0.16.1-py3-none-any.whl (2.1 MB)\n",
            "\u001b[2K     \u001b[90m━━━━━━━━━━━━━━━━━━━━━━━━━━━━━━━━━━━━━━━━\u001b[0m \u001b[32m2.1/2.1 MB\u001b[0m \u001b[31m8.7 MB/s\u001b[0m eta \u001b[36m0:00:00\u001b[0m\n",
            "\u001b[?25hCollecting torch-geometric\n",
            "  Downloading torch_geometric-2.4.0-py3-none-any.whl (1.0 MB)\n",
            "\u001b[2K     \u001b[90m━━━━━━━━━━━━━━━━━━━━━━━━━━━━━━━━━━━━━━━━\u001b[0m \u001b[32m1.0/1.0 MB\u001b[0m \u001b[31m16.1 MB/s\u001b[0m eta \u001b[36m0:00:00\u001b[0m\n",
            "\u001b[?25hRequirement already satisfied: filelock in /usr/local/lib/python3.10/dist-packages (from torch) (3.13.1)\n",
            "Requirement already satisfied: typing-extensions in /usr/local/lib/python3.10/dist-packages (from torch) (4.5.0)\n",
            "Requirement already satisfied: sympy in /usr/local/lib/python3.10/dist-packages (from torch) (1.12)\n",
            "Requirement already satisfied: networkx in /usr/local/lib/python3.10/dist-packages (from torch) (3.2.1)\n",
            "Requirement already satisfied: jinja2 in /usr/local/lib/python3.10/dist-packages (from torch) (3.1.2)\n",
            "Requirement already satisfied: fsspec in /usr/local/lib/python3.10/dist-packages (from torch) (2023.6.0)\n",
            "Requirement already satisfied: triton==2.1.0 in /usr/local/lib/python3.10/dist-packages (from torch) (2.1.0)\n",
            "Requirement already satisfied: PyYAML<8.0,>=5.4 in /usr/local/lib/python3.10/dist-packages (from lightning) (6.0.1)\n",
            "Collecting lightning-utilities<2.0,>=0.8.0 (from lightning)\n",
            "  Downloading lightning_utilities-0.10.0-py3-none-any.whl (24 kB)\n",
            "Requirement already satisfied: packaging<25.0,>=20.0 in /usr/local/lib/python3.10/dist-packages (from lightning) (23.2)\n",
            "Collecting torchmetrics<3.0,>=0.7.0 (from lightning)\n",
            "  Downloading torchmetrics-1.2.1-py3-none-any.whl (806 kB)\n",
            "\u001b[2K     \u001b[90m━━━━━━━━━━━━━━━━━━━━━━━━━━━━━━━━━━━━━━━━\u001b[0m \u001b[32m806.1/806.1 kB\u001b[0m \u001b[31m13.8 MB/s\u001b[0m eta \u001b[36m0:00:00\u001b[0m\n",
            "\u001b[?25hRequirement already satisfied: tqdm<6.0,>=4.57.0 in /usr/local/lib/python3.10/dist-packages (from lightning) (4.66.1)\n",
            "Collecting pytorch-lightning (from lightning)\n",
            "  Downloading pytorch_lightning-2.1.3-py3-none-any.whl (777 kB)\n",
            "\u001b[2K     \u001b[90m━━━━━━━━━━━━━━━━━━━━━━━━━━━━━━━━━━━━━━━━\u001b[0m \u001b[32m777.7/777.7 kB\u001b[0m \u001b[31m16.6 MB/s\u001b[0m eta \u001b[36m0:00:00\u001b[0m\n",
            "\u001b[?25hRequirement already satisfied: six>=1.10 in /usr/local/lib/python3.10/dist-packages (from kaggle) (1.16.0)\n",
            "Requirement already satisfied: certifi in /usr/local/lib/python3.10/dist-packages (from kaggle) (2023.11.17)\n",
            "Requirement already satisfied: python-dateutil in /usr/local/lib/python3.10/dist-packages (from kaggle) (2.8.2)\n",
            "Requirement already satisfied: requests in /usr/local/lib/python3.10/dist-packages (from kaggle) (2.31.0)\n",
            "Requirement already satisfied: python-slugify in /usr/local/lib/python3.10/dist-packages (from kaggle) (8.0.1)\n",
            "Requirement already satisfied: urllib3 in /usr/local/lib/python3.10/dist-packages (from kaggle) (2.0.7)\n",
            "Requirement already satisfied: bleach in /usr/local/lib/python3.10/dist-packages (from kaggle) (6.1.0)\n",
            "Requirement already satisfied: Click!=8.0.0,>=7.1 in /usr/local/lib/python3.10/dist-packages (from wandb) (8.1.7)\n",
            "Collecting GitPython!=3.1.29,>=1.0.0 (from wandb)\n",
            "  Downloading GitPython-3.1.40-py3-none-any.whl (190 kB)\n",
            "\u001b[2K     \u001b[90m━━━━━━━━━━━━━━━━━━━━━━━━━━━━━━━━━━━━━━━━\u001b[0m \u001b[32m190.6/190.6 kB\u001b[0m \u001b[31m8.9 MB/s\u001b[0m eta \u001b[36m0:00:00\u001b[0m\n",
            "\u001b[?25hRequirement already satisfied: psutil>=5.0.0 in /usr/local/lib/python3.10/dist-packages (from wandb) (5.9.5)\n",
            "Collecting sentry-sdk>=1.0.0 (from wandb)\n",
            "  Downloading sentry_sdk-1.39.1-py2.py3-none-any.whl (254 kB)\n",
            "\u001b[2K     \u001b[90m━━━━━━━━━━━━━━━━━━━━━━━━━━━━━━━━━━━━━━━━\u001b[0m \u001b[32m254.1/254.1 kB\u001b[0m \u001b[31m11.2 MB/s\u001b[0m eta \u001b[36m0:00:00\u001b[0m\n",
            "\u001b[?25hCollecting docker-pycreds>=0.4.0 (from wandb)\n",
            "  Downloading docker_pycreds-0.4.0-py2.py3-none-any.whl (9.0 kB)\n",
            "Collecting setproctitle (from wandb)\n",
            "  Downloading setproctitle-1.3.3-cp310-cp310-manylinux_2_5_x86_64.manylinux1_x86_64.manylinux_2_17_x86_64.manylinux2014_x86_64.whl (30 kB)\n",
            "Requirement already satisfied: setuptools in /usr/local/lib/python3.10/dist-packages (from wandb) (67.7.2)\n",
            "Requirement already satisfied: appdirs>=1.4.3 in /usr/local/lib/python3.10/dist-packages (from wandb) (1.4.4)\n",
            "Requirement already satisfied: protobuf!=4.21.0,<5,>=3.19.0 in /usr/local/lib/python3.10/dist-packages (from wandb) (3.20.3)\n",
            "Requirement already satisfied: scipy in /usr/local/lib/python3.10/dist-packages (from torch-geometric) (1.11.4)\n",
            "Requirement already satisfied: pyparsing in /usr/local/lib/python3.10/dist-packages (from torch-geometric) (3.1.1)\n",
            "Requirement already satisfied: scikit-learn in /usr/local/lib/python3.10/dist-packages (from torch-geometric) (1.2.2)\n",
            "Requirement already satisfied: aiohttp!=4.0.0a0,!=4.0.0a1 in /usr/local/lib/python3.10/dist-packages (from fsspec->torch) (3.9.1)\n",
            "Collecting gitdb<5,>=4.0.1 (from GitPython!=3.1.29,>=1.0.0->wandb)\n",
            "  Downloading gitdb-4.0.11-py3-none-any.whl (62 kB)\n",
            "\u001b[2K     \u001b[90m━━━━━━━━━━━━━━━━━━━━━━━━━━━━━━━━━━━━━━━━\u001b[0m \u001b[32m62.7/62.7 kB\u001b[0m \u001b[31m4.2 MB/s\u001b[0m eta \u001b[36m0:00:00\u001b[0m\n",
            "\u001b[?25hRequirement already satisfied: charset-normalizer<4,>=2 in /usr/local/lib/python3.10/dist-packages (from requests->kaggle) (3.3.2)\n",
            "Requirement already satisfied: idna<4,>=2.5 in /usr/local/lib/python3.10/dist-packages (from requests->kaggle) (3.6)\n",
            "Requirement already satisfied: webencodings in /usr/local/lib/python3.10/dist-packages (from bleach->kaggle) (0.5.1)\n",
            "Requirement already satisfied: MarkupSafe>=2.0 in /usr/local/lib/python3.10/dist-packages (from jinja2->torch) (2.1.3)\n",
            "Requirement already satisfied: text-unidecode>=1.3 in /usr/local/lib/python3.10/dist-packages (from python-slugify->kaggle) (1.3)\n",
            "Requirement already satisfied: joblib>=1.1.1 in /usr/local/lib/python3.10/dist-packages (from scikit-learn->torch-geometric) (1.3.2)\n",
            "Requirement already satisfied: threadpoolctl>=2.0.0 in /usr/local/lib/python3.10/dist-packages (from scikit-learn->torch-geometric) (3.2.0)\n",
            "Requirement already satisfied: mpmath>=0.19 in /usr/local/lib/python3.10/dist-packages (from sympy->torch) (1.3.0)\n",
            "Requirement already satisfied: attrs>=17.3.0 in /usr/local/lib/python3.10/dist-packages (from aiohttp!=4.0.0a0,!=4.0.0a1->fsspec->torch) (23.2.0)\n",
            "Requirement already satisfied: multidict<7.0,>=4.5 in /usr/local/lib/python3.10/dist-packages (from aiohttp!=4.0.0a0,!=4.0.0a1->fsspec->torch) (6.0.4)\n",
            "Requirement already satisfied: yarl<2.0,>=1.0 in /usr/local/lib/python3.10/dist-packages (from aiohttp!=4.0.0a0,!=4.0.0a1->fsspec->torch) (1.9.4)\n",
            "Requirement already satisfied: frozenlist>=1.1.1 in /usr/local/lib/python3.10/dist-packages (from aiohttp!=4.0.0a0,!=4.0.0a1->fsspec->torch) (1.4.1)\n",
            "Requirement already satisfied: aiosignal>=1.1.2 in /usr/local/lib/python3.10/dist-packages (from aiohttp!=4.0.0a0,!=4.0.0a1->fsspec->torch) (1.3.1)\n",
            "Requirement already satisfied: async-timeout<5.0,>=4.0 in /usr/local/lib/python3.10/dist-packages (from aiohttp!=4.0.0a0,!=4.0.0a1->fsspec->torch) (4.0.3)\n",
            "Collecting smmap<6,>=3.0.1 (from gitdb<5,>=4.0.1->GitPython!=3.1.29,>=1.0.0->wandb)\n",
            "  Downloading smmap-5.0.1-py3-none-any.whl (24 kB)\n",
            "Installing collected packages: smmap, setproctitle, sentry-sdk, lightning-utilities, docker-pycreds, gitdb, torchmetrics, torch-geometric, GitPython, wandb, pytorch-lightning, lightning\n",
            "Successfully installed GitPython-3.1.40 docker-pycreds-0.4.0 gitdb-4.0.11 lightning-2.1.3 lightning-utilities-0.10.0 pytorch-lightning-2.1.3 sentry-sdk-1.39.1 setproctitle-1.3.3 smmap-5.0.1 torch-geometric-2.4.0 torchmetrics-1.2.1 wandb-0.16.1\n",
            "Requirement already satisfied: polars in /usr/local/lib/python3.10/dist-packages (0.17.3)\n",
            "Collecting polars\n",
            "  Downloading polars-0.20.3-cp38-abi3-manylinux_2_17_x86_64.manylinux2014_x86_64.whl (28.6 MB)\n",
            "\u001b[2K     \u001b[90m━━━━━━━━━━━━━━━━━━━━━━━━━━━━━━━━━━━━━━━━\u001b[0m \u001b[32m28.6/28.6 MB\u001b[0m \u001b[31m35.5 MB/s\u001b[0m eta \u001b[36m0:00:00\u001b[0m\n",
            "\u001b[?25hInstalling collected packages: polars\n",
            "  Attempting uninstall: polars\n",
            "    Found existing installation: polars 0.17.3\n",
            "    Uninstalling polars-0.17.3:\n",
            "      Successfully uninstalled polars-0.17.3\n",
            "Successfully installed polars-0.20.3\n"
          ]
        }
      ],
      "source": [
        "!pip install torch lightning numpy kaggle wandb torch-geometric\n",
        "!pip install polars  -U"
      ]
    },
    {
      "cell_type": "code",
      "execution_count": null,
      "outputs": [
        {
          "output_type": "display_data",
          "data": {
            "text/plain": [
              "<IPython.core.display.HTML object>"
            ],
            "text/html": [
              "\n",
              "     <input type=\"file\" id=\"files-c68ad074-30d5-4e6e-8a72-2053930310cf\" name=\"files[]\" multiple disabled\n",
              "        style=\"border:none\" />\n",
              "     <output id=\"result-c68ad074-30d5-4e6e-8a72-2053930310cf\">\n",
              "      Upload widget is only available when the cell has been executed in the\n",
              "      current browser session. Please rerun this cell to enable.\n",
              "      </output>\n",
              "      <script>// Copyright 2017 Google LLC\n",
              "//\n",
              "// Licensed under the Apache License, Version 2.0 (the \"License\");\n",
              "// you may not use this file except in compliance with the License.\n",
              "// You may obtain a copy of the License at\n",
              "//\n",
              "//      http://www.apache.org/licenses/LICENSE-2.0\n",
              "//\n",
              "// Unless required by applicable law or agreed to in writing, software\n",
              "// distributed under the License is distributed on an \"AS IS\" BASIS,\n",
              "// WITHOUT WARRANTIES OR CONDITIONS OF ANY KIND, either express or implied.\n",
              "// See the License for the specific language governing permissions and\n",
              "// limitations under the License.\n",
              "\n",
              "/**\n",
              " * @fileoverview Helpers for google.colab Python module.\n",
              " */\n",
              "(function(scope) {\n",
              "function span(text, styleAttributes = {}) {\n",
              "  const element = document.createElement('span');\n",
              "  element.textContent = text;\n",
              "  for (const key of Object.keys(styleAttributes)) {\n",
              "    element.style[key] = styleAttributes[key];\n",
              "  }\n",
              "  return element;\n",
              "}\n",
              "\n",
              "// Max number of bytes which will be uploaded at a time.\n",
              "const MAX_PAYLOAD_SIZE = 100 * 1024;\n",
              "\n",
              "function _uploadFiles(inputId, outputId) {\n",
              "  const steps = uploadFilesStep(inputId, outputId);\n",
              "  const outputElement = document.getElementById(outputId);\n",
              "  // Cache steps on the outputElement to make it available for the next call\n",
              "  // to uploadFilesContinue from Python.\n",
              "  outputElement.steps = steps;\n",
              "\n",
              "  return _uploadFilesContinue(outputId);\n",
              "}\n",
              "\n",
              "// This is roughly an async generator (not supported in the browser yet),\n",
              "// where there are multiple asynchronous steps and the Python side is going\n",
              "// to poll for completion of each step.\n",
              "// This uses a Promise to block the python side on completion of each step,\n",
              "// then passes the result of the previous step as the input to the next step.\n",
              "function _uploadFilesContinue(outputId) {\n",
              "  const outputElement = document.getElementById(outputId);\n",
              "  const steps = outputElement.steps;\n",
              "\n",
              "  const next = steps.next(outputElement.lastPromiseValue);\n",
              "  return Promise.resolve(next.value.promise).then((value) => {\n",
              "    // Cache the last promise value to make it available to the next\n",
              "    // step of the generator.\n",
              "    outputElement.lastPromiseValue = value;\n",
              "    return next.value.response;\n",
              "  });\n",
              "}\n",
              "\n",
              "/**\n",
              " * Generator function which is called between each async step of the upload\n",
              " * process.\n",
              " * @param {string} inputId Element ID of the input file picker element.\n",
              " * @param {string} outputId Element ID of the output display.\n",
              " * @return {!Iterable<!Object>} Iterable of next steps.\n",
              " */\n",
              "function* uploadFilesStep(inputId, outputId) {\n",
              "  const inputElement = document.getElementById(inputId);\n",
              "  inputElement.disabled = false;\n",
              "\n",
              "  const outputElement = document.getElementById(outputId);\n",
              "  outputElement.innerHTML = '';\n",
              "\n",
              "  const pickedPromise = new Promise((resolve) => {\n",
              "    inputElement.addEventListener('change', (e) => {\n",
              "      resolve(e.target.files);\n",
              "    });\n",
              "  });\n",
              "\n",
              "  const cancel = document.createElement('button');\n",
              "  inputElement.parentElement.appendChild(cancel);\n",
              "  cancel.textContent = 'Cancel upload';\n",
              "  const cancelPromise = new Promise((resolve) => {\n",
              "    cancel.onclick = () => {\n",
              "      resolve(null);\n",
              "    };\n",
              "  });\n",
              "\n",
              "  // Wait for the user to pick the files.\n",
              "  const files = yield {\n",
              "    promise: Promise.race([pickedPromise, cancelPromise]),\n",
              "    response: {\n",
              "      action: 'starting',\n",
              "    }\n",
              "  };\n",
              "\n",
              "  cancel.remove();\n",
              "\n",
              "  // Disable the input element since further picks are not allowed.\n",
              "  inputElement.disabled = true;\n",
              "\n",
              "  if (!files) {\n",
              "    return {\n",
              "      response: {\n",
              "        action: 'complete',\n",
              "      }\n",
              "    };\n",
              "  }\n",
              "\n",
              "  for (const file of files) {\n",
              "    const li = document.createElement('li');\n",
              "    li.append(span(file.name, {fontWeight: 'bold'}));\n",
              "    li.append(span(\n",
              "        `(${file.type || 'n/a'}) - ${file.size} bytes, ` +\n",
              "        `last modified: ${\n",
              "            file.lastModifiedDate ? file.lastModifiedDate.toLocaleDateString() :\n",
              "                                    'n/a'} - `));\n",
              "    const percent = span('0% done');\n",
              "    li.appendChild(percent);\n",
              "\n",
              "    outputElement.appendChild(li);\n",
              "\n",
              "    const fileDataPromise = new Promise((resolve) => {\n",
              "      const reader = new FileReader();\n",
              "      reader.onload = (e) => {\n",
              "        resolve(e.target.result);\n",
              "      };\n",
              "      reader.readAsArrayBuffer(file);\n",
              "    });\n",
              "    // Wait for the data to be ready.\n",
              "    let fileData = yield {\n",
              "      promise: fileDataPromise,\n",
              "      response: {\n",
              "        action: 'continue',\n",
              "      }\n",
              "    };\n",
              "\n",
              "    // Use a chunked sending to avoid message size limits. See b/62115660.\n",
              "    let position = 0;\n",
              "    do {\n",
              "      const length = Math.min(fileData.byteLength - position, MAX_PAYLOAD_SIZE);\n",
              "      const chunk = new Uint8Array(fileData, position, length);\n",
              "      position += length;\n",
              "\n",
              "      const base64 = btoa(String.fromCharCode.apply(null, chunk));\n",
              "      yield {\n",
              "        response: {\n",
              "          action: 'append',\n",
              "          file: file.name,\n",
              "          data: base64,\n",
              "        },\n",
              "      };\n",
              "\n",
              "      let percentDone = fileData.byteLength === 0 ?\n",
              "          100 :\n",
              "          Math.round((position / fileData.byteLength) * 100);\n",
              "      percent.textContent = `${percentDone}% done`;\n",
              "\n",
              "    } while (position < fileData.byteLength);\n",
              "  }\n",
              "\n",
              "  // All done.\n",
              "  yield {\n",
              "    response: {\n",
              "      action: 'complete',\n",
              "    }\n",
              "  };\n",
              "}\n",
              "\n",
              "scope.google = scope.google || {};\n",
              "scope.google.colab = scope.google.colab || {};\n",
              "scope.google.colab._files = {\n",
              "  _uploadFiles,\n",
              "  _uploadFilesContinue,\n",
              "};\n",
              "})(self);\n",
              "</script> "
            ]
          },
          "metadata": {}
        },
        {
          "output_type": "stream",
          "name": "stdout",
          "text": [
            "Saving kaggle.json to kaggle.json\n"
          ]
        },
        {
          "output_type": "execute_result",
          "data": {
            "text/plain": [
              "{'kaggle.json': b'{\"username\":\"alexxxyy47\",\"key\":\"f22a6402c7ed399e2946136b2e7223df\"}'}"
            ]
          },
          "metadata": {},
          "execution_count": 2
        },
        {
          "output_type": "display_data",
          "data": {
            "text/plain": [
              "<IPython.core.display.HTML object>"
            ],
            "text/html": [
              "\n",
              "     <input type=\"file\" id=\"files-4493c8e3-c827-4da9-a4f1-5db767a63258\" name=\"files[]\" multiple disabled\n",
              "        style=\"border:none\" />\n",
              "     <output id=\"result-4493c8e3-c827-4da9-a4f1-5db767a63258\">\n",
              "      Upload widget is only available when the cell has been executed in the\n",
              "      current browser session. Please rerun this cell to enable.\n",
              "      </output>\n",
              "      <script>// Copyright 2017 Google LLC\n",
              "//\n",
              "// Licensed under the Apache License, Version 2.0 (the \"License\");\n",
              "// you may not use this file except in compliance with the License.\n",
              "// You may obtain a copy of the License at\n",
              "//\n",
              "//      http://www.apache.org/licenses/LICENSE-2.0\n",
              "//\n",
              "// Unless required by applicable law or agreed to in writing, software\n",
              "// distributed under the License is distributed on an \"AS IS\" BASIS,\n",
              "// WITHOUT WARRANTIES OR CONDITIONS OF ANY KIND, either express or implied.\n",
              "// See the License for the specific language governing permissions and\n",
              "// limitations under the License.\n",
              "\n",
              "/**\n",
              " * @fileoverview Helpers for google.colab Python module.\n",
              " */\n",
              "(function(scope) {\n",
              "function span(text, styleAttributes = {}) {\n",
              "  const element = document.createElement('span');\n",
              "  element.textContent = text;\n",
              "  for (const key of Object.keys(styleAttributes)) {\n",
              "    element.style[key] = styleAttributes[key];\n",
              "  }\n",
              "  return element;\n",
              "}\n",
              "\n",
              "// Max number of bytes which will be uploaded at a time.\n",
              "const MAX_PAYLOAD_SIZE = 100 * 1024;\n",
              "\n",
              "function _uploadFiles(inputId, outputId) {\n",
              "  const steps = uploadFilesStep(inputId, outputId);\n",
              "  const outputElement = document.getElementById(outputId);\n",
              "  // Cache steps on the outputElement to make it available for the next call\n",
              "  // to uploadFilesContinue from Python.\n",
              "  outputElement.steps = steps;\n",
              "\n",
              "  return _uploadFilesContinue(outputId);\n",
              "}\n",
              "\n",
              "// This is roughly an async generator (not supported in the browser yet),\n",
              "// where there are multiple asynchronous steps and the Python side is going\n",
              "// to poll for completion of each step.\n",
              "// This uses a Promise to block the python side on completion of each step,\n",
              "// then passes the result of the previous step as the input to the next step.\n",
              "function _uploadFilesContinue(outputId) {\n",
              "  const outputElement = document.getElementById(outputId);\n",
              "  const steps = outputElement.steps;\n",
              "\n",
              "  const next = steps.next(outputElement.lastPromiseValue);\n",
              "  return Promise.resolve(next.value.promise).then((value) => {\n",
              "    // Cache the last promise value to make it available to the next\n",
              "    // step of the generator.\n",
              "    outputElement.lastPromiseValue = value;\n",
              "    return next.value.response;\n",
              "  });\n",
              "}\n",
              "\n",
              "/**\n",
              " * Generator function which is called between each async step of the upload\n",
              " * process.\n",
              " * @param {string} inputId Element ID of the input file picker element.\n",
              " * @param {string} outputId Element ID of the output display.\n",
              " * @return {!Iterable<!Object>} Iterable of next steps.\n",
              " */\n",
              "function* uploadFilesStep(inputId, outputId) {\n",
              "  const inputElement = document.getElementById(inputId);\n",
              "  inputElement.disabled = false;\n",
              "\n",
              "  const outputElement = document.getElementById(outputId);\n",
              "  outputElement.innerHTML = '';\n",
              "\n",
              "  const pickedPromise = new Promise((resolve) => {\n",
              "    inputElement.addEventListener('change', (e) => {\n",
              "      resolve(e.target.files);\n",
              "    });\n",
              "  });\n",
              "\n",
              "  const cancel = document.createElement('button');\n",
              "  inputElement.parentElement.appendChild(cancel);\n",
              "  cancel.textContent = 'Cancel upload';\n",
              "  const cancelPromise = new Promise((resolve) => {\n",
              "    cancel.onclick = () => {\n",
              "      resolve(null);\n",
              "    };\n",
              "  });\n",
              "\n",
              "  // Wait for the user to pick the files.\n",
              "  const files = yield {\n",
              "    promise: Promise.race([pickedPromise, cancelPromise]),\n",
              "    response: {\n",
              "      action: 'starting',\n",
              "    }\n",
              "  };\n",
              "\n",
              "  cancel.remove();\n",
              "\n",
              "  // Disable the input element since further picks are not allowed.\n",
              "  inputElement.disabled = true;\n",
              "\n",
              "  if (!files) {\n",
              "    return {\n",
              "      response: {\n",
              "        action: 'complete',\n",
              "      }\n",
              "    };\n",
              "  }\n",
              "\n",
              "  for (const file of files) {\n",
              "    const li = document.createElement('li');\n",
              "    li.append(span(file.name, {fontWeight: 'bold'}));\n",
              "    li.append(span(\n",
              "        `(${file.type || 'n/a'}) - ${file.size} bytes, ` +\n",
              "        `last modified: ${\n",
              "            file.lastModifiedDate ? file.lastModifiedDate.toLocaleDateString() :\n",
              "                                    'n/a'} - `));\n",
              "    const percent = span('0% done');\n",
              "    li.appendChild(percent);\n",
              "\n",
              "    outputElement.appendChild(li);\n",
              "\n",
              "    const fileDataPromise = new Promise((resolve) => {\n",
              "      const reader = new FileReader();\n",
              "      reader.onload = (e) => {\n",
              "        resolve(e.target.result);\n",
              "      };\n",
              "      reader.readAsArrayBuffer(file);\n",
              "    });\n",
              "    // Wait for the data to be ready.\n",
              "    let fileData = yield {\n",
              "      promise: fileDataPromise,\n",
              "      response: {\n",
              "        action: 'continue',\n",
              "      }\n",
              "    };\n",
              "\n",
              "    // Use a chunked sending to avoid message size limits. See b/62115660.\n",
              "    let position = 0;\n",
              "    do {\n",
              "      const length = Math.min(fileData.byteLength - position, MAX_PAYLOAD_SIZE);\n",
              "      const chunk = new Uint8Array(fileData, position, length);\n",
              "      position += length;\n",
              "\n",
              "      const base64 = btoa(String.fromCharCode.apply(null, chunk));\n",
              "      yield {\n",
              "        response: {\n",
              "          action: 'append',\n",
              "          file: file.name,\n",
              "          data: base64,\n",
              "        },\n",
              "      };\n",
              "\n",
              "      let percentDone = fileData.byteLength === 0 ?\n",
              "          100 :\n",
              "          Math.round((position / fileData.byteLength) * 100);\n",
              "      percent.textContent = `${percentDone}% done`;\n",
              "\n",
              "    } while (position < fileData.byteLength);\n",
              "  }\n",
              "\n",
              "  // All done.\n",
              "  yield {\n",
              "    response: {\n",
              "      action: 'complete',\n",
              "    }\n",
              "  };\n",
              "}\n",
              "\n",
              "scope.google = scope.google || {};\n",
              "scope.google.colab = scope.google.colab || {};\n",
              "scope.google.colab._files = {\n",
              "  _uploadFiles,\n",
              "  _uploadFilesContinue,\n",
              "};\n",
              "})(self);\n",
              "</script> "
            ]
          },
          "metadata": {}
        },
        {
          "output_type": "stream",
          "name": "stdout",
          "text": [
            "Saving kaggle.json to kaggle (1).json\n"
          ]
        },
        {
          "output_type": "execute_result",
          "data": {
            "text/plain": [
              "{'kaggle (1).json': b'{\"username\":\"alexxxyy47\",\"key\":\"f22a6402c7ed399e2946136b2e7223df\"}'}"
            ]
          },
          "metadata": {},
          "execution_count": 3
        }
      ],
      "source": [
        "from google.colab import files\n",
        "\n",
        "# Carica il file kaggle.json\n",
        "files.upload()\n"
      ],
      "metadata": {
        "id": "6faa4534c499941c",
        "outputId": "b373ef76-b529-4ba1-92f2-d6f40e70a3dd",
        "colab": {
          "base_uri": "https://localhost:8080/",
          "height": 163
        }
      },
      "id": "6faa4534c499941c"
    },
    {
      "cell_type": "code",
      "execution_count": null,
      "outputs": [],
      "source": [
        "!mkdir ~/.kaggle\n",
        "!mv kaggle.json ~/.kaggle/\n",
        "!chmod 600 ~/.kaggle/kaggle.json\n"
      ],
      "metadata": {
        "id": "864e92886d507f8"
      },
      "id": "864e92886d507f8"
    },
    {
      "cell_type": "code",
      "execution_count": null,
      "outputs": [
        {
          "output_type": "stream",
          "name": "stdout",
          "text": [
            "Downloading paysim1.zip to /content\n",
            "100% 177M/178M [00:07<00:00, 33.9MB/s]\n",
            "100% 178M/178M [00:07<00:00, 25.6MB/s]\n",
            "Archive:  paysim1.zip\n",
            "  inflating: PS_20174392719_1491204439457_log.csv  \n"
          ]
        }
      ],
      "source": [
        "!kaggle datasets download -d ealaxi/paysim1\n",
        "!unzip paysim1.zip\n",
        "!rm paysim1.zip"
      ],
      "metadata": {
        "id": "6d9167a862900129",
        "outputId": "3307b90b-8e69-4e16-9f16-07a2d1a9c4ef",
        "colab": {
          "base_uri": "https://localhost:8080/"
        }
      },
      "id": "6d9167a862900129"
    },
    {
      "cell_type": "code",
      "execution_count": null,
      "outputs": [],
      "source": [
        "import pandas as pd, sys, plotly.graph_objects as go, plotly.express as px, numpy as np, torch, random as rnd, torch.nn as nn, lightning as l, wandb as wndb\n",
        "from torch.utils.data import Dataset, DataLoader\n",
        "from sklearn.utils import shuffle\n",
        "from torch_geometric import seed_everything\n",
        "import polars as pl\n",
        "from torch_geometric.data import Data\n",
        "import pdb\n",
        "from torch_geometric.nn import GCNConv\n",
        "import torchmetrics\n"
      ],
      "metadata": {
        "ExecuteTime": {
          "end_time": "2023-12-23T17:07:54.138381463Z",
          "start_time": "2023-12-23T17:07:50.727572469Z"
        },
        "id": "f7010a4768825241"
      },
      "id": "f7010a4768825241"
    },
    {
      "cell_type": "code",
      "execution_count": null,
      "outputs": [],
      "source": [
        "# PARAMETERS\n",
        "\n",
        "DEVICE = \"cuda\"\n",
        "SEED = 42\n",
        "\n",
        "rnd.seed(SEED)\n",
        "np.random.seed(SEED)\n",
        "torch.manual_seed(SEED)\n",
        "torch.backends.cudnn.deterministic = True\n",
        "seed_everything(SEED)\n",
        "DEVICE = \"cuda\" if torch.cuda.is_available() else \"cpu\"\n",
        "ACCELERATOR =  \"gpu\" if torch.cuda.is_available() else \"cpu\"\n",
        "POS_SIZE = 1200\n",
        "NEG_SIZE = 150\n"
      ],
      "metadata": {
        "id": "fafd9207423f48f"
      },
      "id": "fafd9207423f48f"
    },
    {
      "cell_type": "code",
      "execution_count": null,
      "outputs": [],
      "source": [
        "# UTILS FUNCTIONS\n",
        "\n",
        "def load_dataframe( dataset_file : str):\n",
        "    return pl.read_csv(dataset_file)\n",
        "\n",
        "\n",
        "def find_null_or_empty_records( dataframe: pd.DataFrame):\n",
        "    n = len(dataframe)\n",
        "    for index, row in dataframe.iterrows():\n",
        "        print_progress_bar(index/n)\n",
        "        # Controlla se ci sono valori nulli o vuoti nel record\n",
        "        if row.isnull().any() or any(map(lambda x: x == '', row)):\n",
        "            # Stampa il record\n",
        "            print(f\"Record con valori nulli o vuoti:\\n{row}\\n\")\n",
        "\n",
        "def print_progress_bar(percentuale, lunghezza_barra=20):\n",
        "    blocchi_compilati = int(lunghezza_barra * percentuale)\n",
        "    barra = \"[\" + \"=\" * (blocchi_compilati - 1) + \">\" + \" \" * (lunghezza_barra - blocchi_compilati) + \"]\"\n",
        "    sys.stdout.write(f\"\\r{barra} {percentuale * 100:.2f}% completo\")\n",
        "    sys.stdout.flush()\n",
        "\n",
        "\n",
        "def compute_kind_inconsistence(dataframe):\n",
        "    return {\"inconsistent orig balance\": len(dataframe.query('abs(oldbalanceOrg - newbalanceOrig) != amount'))/len(dataframe),\n",
        "            \"inconsistent dest balance\": len(dataframe.query('abs(oldbalanceDest - newbalanceDest) != amount'))/len(dataframe),\n",
        "            \"zero cash transaction\": len(dataframe.query('amount == 0 '))/len(dataframe),\n",
        "            \"self-transaction\": len(dataframe.query('nameOrig == nameDest'))/len(dataframe)\n",
        "            }\n",
        "\n",
        "def plot_histogram(to_plot):\n",
        "\n",
        "\n",
        "    # Converti il dizionario in un array di valori\n",
        "    values = list(to_plot.values())\n",
        "\n",
        "    # Crea un istogramma\n",
        "    fig = go.Figure(data=[go.Bar(x=list(to_plot.keys()), y=values)])\n",
        "\n",
        "    # Mostra l'istogramma\n",
        "    fig.show()\n",
        "\n",
        "\n",
        "\n",
        "def plot_categories(dataframe):\n",
        "    # Calcola la frequenza di ogni categoria nella colonna 'type'\n",
        "    counts = dataframe['type'].value_counts().reset_index()\n",
        "\n",
        "    # Rinomina le colonne\n",
        "    counts.columns = ['type', 'count']\n",
        "\n",
        "    counts['count'] = counts['count'] / counts['count'].sum()\n",
        "\n",
        "    # Crea l'istogramma con Plotly Express\n",
        "    fig = px.bar(counts, x='type', y='count', title='Istogramma delle categorie nella colonna \"type\"')\n",
        "\n",
        "    # Mostra il plot\n",
        "    fig.show()\n",
        "\n",
        "def create_name_dict(df):\n",
        "  df1 = df.select(pl.col(\"nameOrig\").alias('name'))\n",
        "  df2 = df.select(pl.col(\"nameDest\").alias('name'))\n",
        "  df = pl.concat([df1,df2])\n",
        "  df = df.unique()\n",
        "  names = list(df['name'])\n",
        "  return dict(zip(names,list(range(len(names)))))\n",
        "\n",
        "\n",
        "def divide_dataset(dataset_file,train_prc,val_prc):\n",
        "  #breakpoint()\n",
        "  dataframe = load_dataframe(dataset_file)\n",
        "  transaction_types = {\n",
        "      \"CASH_IN\": 0,\n",
        "      \"CASH_OUT\": 1,\n",
        "      \"DEBIT\": 2,\n",
        "      \"PAYMENT\": 3,\n",
        "      \"TRANSFER\": 4\n",
        "  }\n",
        "\n",
        "  dataframe = dataframe.with_columns(pl.col(\"type\").replace(transaction_types).alias(\"type\"),\n",
        "                                     (pl.col('step')%24).alias('step'))\n",
        "\n",
        "  id_df  = pl.DataFrame({'id': list(range(len(dataframe)))})\n",
        "\n",
        "  dataframe = pl.concat([dataframe, id_df], how=\"horizontal\")\n",
        "\n",
        "  d_neg = dataframe.filter((pl.col('amount') != 0) & (pl.col('isFraud') == 0))\n",
        "  neg_data_train = d_neg.sample(int(len(d_neg)*train_prc))\n",
        "  d_neg = d_neg.filter(~pl.col('id').is_in(neg_data_train.select(pl.col('id'))))\n",
        "\n",
        "  d_pos = dataframe.filter((pl.col('amount') != 0) & (pl.col('isFraud') == 1))\n",
        "  pos_data_train = d_pos.sample(int(len(d_pos)*train_prc))\n",
        "  d_pos = d_pos.filter(~pl.col('id').is_in(pos_data_train.select(pl.col('id'))))\n",
        "\n",
        "\n",
        "  neg_data_val = d_neg.sample(int(len(d_neg)*val_prc))\n",
        "  d_neg = d_neg.filter(~pl.col('id').is_in(neg_data_val.select(pl.col('id'))))\n",
        "\n",
        "  pos_data_val = d_pos.sample(int(len(d_pos)*val_prc))\n",
        "  d_pos = d_pos.filter(~pl.col('id').is_in(pos_data_val.select(pl.col('id'))))\n",
        "\n",
        "  neg_data_train = neg_data_train.select(pl.exclude('id'))\n",
        "  pos_data_train = pos_data_train.select(pl.exclude('id'))\n",
        "\n",
        "  neg_data_val = neg_data_val.select(pl.exclude('id'))\n",
        "  pos_data_val = pos_data_val.select(pl.exclude('id'))\n",
        "\n",
        "  d_neg = d_neg.select(pl.exclude('id'))\n",
        "  d_pos = d_pos.select(pl.exclude('id'))\n",
        "\n",
        "  return (neg_data_train, pos_data_train), (neg_data_val, pos_data_val), (d_neg,d_pos )\n",
        "\n",
        "\n"
      ],
      "metadata": {
        "ExecuteTime": {
          "end_time": "2023-12-23T17:07:57.977091136Z",
          "start_time": "2023-12-23T17:07:57.964383768Z"
        },
        "id": "eb7be9ce4b817dc4"
      },
      "id": "eb7be9ce4b817dc4"
    },
    {
      "cell_type": "code",
      "source": [
        "dataframe = load_dataframe(\"PS_20174392719_1491204439457_log.csv\")\n",
        "dataframe = dataframe.cast({\"isFraud\": pl.Int8})"
      ],
      "metadata": {
        "id": "fPZrGuaresNB"
      },
      "id": "fPZrGuaresNB",
      "execution_count": null,
      "outputs": []
    },
    {
      "cell_type": "code",
      "source": [
        "d = create_name_dict(dataframe)"
      ],
      "metadata": {
        "id": "LczdXps_Aa6j"
      },
      "id": "LczdXps_Aa6j",
      "execution_count": null,
      "outputs": []
    },
    {
      "cell_type": "code",
      "source": [
        "len(d.keys())"
      ],
      "metadata": {
        "colab": {
          "base_uri": "https://localhost:8080/"
        },
        "id": "H65bttAgAlsx",
        "outputId": "075b9c5e-8875-4dea-8732-503da0840572"
      },
      "id": "H65bttAgAlsx",
      "execution_count": null,
      "outputs": [
        {
          "output_type": "execute_result",
          "data": {
            "text/plain": [
              "9073900"
            ]
          },
          "metadata": {},
          "execution_count": 11
        }
      ]
    },
    {
      "cell_type": "code",
      "source": [
        "divide_dataset(\"PS_20174392719_1491204439457_log.csv\",0.7,0.1)"
      ],
      "metadata": {
        "id": "9S-SzATpiH0T",
        "outputId": "24aa0759-014d-43c9-baa8-750b74eed096",
        "colab": {
          "base_uri": "https://localhost:8080/"
        }
      },
      "id": "9S-SzATpiH0T",
      "execution_count": null,
      "outputs": [
        {
          "output_type": "execute_result",
          "data": {
            "text/plain": [
              "((shape: (4_448_084, 11)\n",
              "  ┌──────┬──────┬───────────┬─────────────┬───┬──────────────┬──────────────┬─────────┬──────────────┐\n",
              "  │ step ┆ type ┆ amount    ┆ nameOrig    ┆ … ┆ oldbalanceDe ┆ newbalanceDe ┆ isFraud ┆ isFlaggedFra │\n",
              "  │ ---  ┆ ---  ┆ ---       ┆ ---         ┆   ┆ st           ┆ st           ┆ ---     ┆ ud           │\n",
              "  │ i64  ┆ str  ┆ f64       ┆ str         ┆   ┆ ---          ┆ ---          ┆ i64     ┆ ---          │\n",
              "  │      ┆      ┆           ┆             ┆   ┆ f64          ┆ f64          ┆         ┆ i64          │\n",
              "  ╞══════╪══════╪═══════════╪═════════════╪═══╪══════════════╪══════════════╪═════════╪══════════════╡\n",
              "  │ 16   ┆ 4    ┆ 2.7249e6  ┆ C111177078  ┆ … ┆ 0.0          ┆ 2.8515e6     ┆ 0       ┆ 0            │\n",
              "  │ 15   ┆ 0    ┆ 122161.91 ┆ C348307229  ┆ … ┆ 2018844.6    ┆ 1.1433e6     ┆ 0       ┆ 0            │\n",
              "  │ 16   ┆ 4    ┆ 115519.78 ┆ C106220047  ┆ … ┆ 0.0          ┆ 126625.6     ┆ 0       ┆ 0            │\n",
              "  │ 20   ┆ 1    ┆ 268483.68 ┆ C1882402481 ┆ … ┆ 831168.67    ┆ 1.0997e6     ┆ 0       ┆ 0            │\n",
              "  │ …    ┆ …    ┆ …         ┆ …           ┆ … ┆ …            ┆ …            ┆ …       ┆ …            │\n",
              "  │ 15   ┆ 0    ┆ 490379.5  ┆ C1707708584 ┆ … ┆ 0.0          ┆ 0.0          ┆ 0       ┆ 0            │\n",
              "  │ 14   ┆ 3    ┆ 11098.07  ┆ C1463806924 ┆ … ┆ 0.0          ┆ 0.0          ┆ 0       ┆ 0            │\n",
              "  │ 9    ┆ 1    ┆ 220389.68 ┆ C78666543   ┆ … ┆ 161079.29    ┆ 381468.97    ┆ 0       ┆ 0            │\n",
              "  │ 18   ┆ 1    ┆ 246579.38 ┆ C676420227  ┆ … ┆ 1.1128e6     ┆ 1.3594e6     ┆ 0       ┆ 0            │\n",
              "  └──────┴──────┴───────────┴─────────────┴───┴──────────────┴──────────────┴─────────┴──────────────┘,\n",
              "  shape: (5_737, 11)\n",
              "  ┌──────┬──────┬───────────┬─────────────┬───┬──────────────┬──────────────┬─────────┬──────────────┐\n",
              "  │ step ┆ type ┆ amount    ┆ nameOrig    ┆ … ┆ oldbalanceDe ┆ newbalanceDe ┆ isFraud ┆ isFlaggedFra │\n",
              "  │ ---  ┆ ---  ┆ ---       ┆ ---         ┆   ┆ st           ┆ st           ┆ ---     ┆ ud           │\n",
              "  │ i64  ┆ str  ┆ f64       ┆ str         ┆   ┆ ---          ┆ ---          ┆ i64     ┆ ---          │\n",
              "  │      ┆      ┆           ┆             ┆   ┆ f64          ┆ f64          ┆         ┆ i64          │\n",
              "  ╞══════╪══════╪═══════════╪═════════════╪═══╪══════════════╪══════════════╪═════════╪══════════════╡\n",
              "  │ 13   ┆ 1    ┆ 1.9467e6  ┆ C1573457195 ┆ … ┆ 0.0          ┆ 1.9467e6     ┆ 1       ┆ 0            │\n",
              "  │ 9    ┆ 1    ┆ 382960.64 ┆ C749254504  ┆ … ┆ 1.6391e6     ┆ 2.0221e6     ┆ 1       ┆ 0            │\n",
              "  │ 6    ┆ 4    ┆ 22025.14  ┆ C1423921623 ┆ … ┆ 0.0          ┆ 0.0          ┆ 1       ┆ 0            │\n",
              "  │ 18   ┆ 1    ┆ 3.5697e6  ┆ C2012983997 ┆ … ┆ 0.0          ┆ 3.5697e6     ┆ 1       ┆ 0            │\n",
              "  │ …    ┆ …    ┆ …         ┆ …           ┆ … ┆ …            ┆ …            ┆ …       ┆ …            │\n",
              "  │ 2    ┆ 4    ┆ 3.2842e6  ┆ C103236252  ┆ … ┆ 0.0          ┆ 0.0          ┆ 1       ┆ 0            │\n",
              "  │ 10   ┆ 4    ┆ 1.2313e6  ┆ C2120061745 ┆ … ┆ 0.0          ┆ 0.0          ┆ 1       ┆ 0            │\n",
              "  │ 19   ┆ 4    ┆ 2.0448e6  ┆ C1216424178 ┆ … ┆ 0.0          ┆ 0.0          ┆ 1       ┆ 0            │\n",
              "  │ 9    ┆ 1    ┆ 3.2952e6  ┆ C1587398978 ┆ … ┆ 0.0          ┆ 4.0029e6     ┆ 1       ┆ 0            │\n",
              "  └──────┴──────┴───────────┴─────────────┴───┴──────────────┴──────────────┴─────────┴──────────────┘),\n",
              " (shape: (190_632, 11)\n",
              "  ┌──────┬──────┬───────────┬─────────────┬───┬──────────────┬──────────────┬─────────┬──────────────┐\n",
              "  │ step ┆ type ┆ amount    ┆ nameOrig    ┆ … ┆ oldbalanceDe ┆ newbalanceDe ┆ isFraud ┆ isFlaggedFra │\n",
              "  │ ---  ┆ ---  ┆ ---       ┆ ---         ┆   ┆ st           ┆ st           ┆ ---     ┆ ud           │\n",
              "  │ i64  ┆ str  ┆ f64       ┆ str         ┆   ┆ ---          ┆ ---          ┆ i64     ┆ ---          │\n",
              "  │      ┆      ┆           ┆             ┆   ┆ f64          ┆ f64          ┆         ┆ i64          │\n",
              "  ╞══════╪══════╪═══════════╪═════════════╪═══╪══════════════╪══════════════╪═════════╪══════════════╡\n",
              "  │ 11   ┆ 1    ┆ 139359.08 ┆ C1255105762 ┆ … ┆ 34016.86     ┆ 247848.43    ┆ 0       ┆ 0            │\n",
              "  │ 23   ┆ 3    ┆ 6408.04   ┆ C1658670777 ┆ … ┆ 0.0          ┆ 0.0          ┆ 0       ┆ 0            │\n",
              "  │ 17   ┆ 1    ┆ 509339.88 ┆ C1131111129 ┆ … ┆ 68133.41     ┆ 577473.28    ┆ 0       ┆ 0            │\n",
              "  │ 20   ┆ 3    ┆ 1748.07   ┆ C86155008   ┆ … ┆ 0.0          ┆ 0.0          ┆ 0       ┆ 0            │\n",
              "  │ …    ┆ …    ┆ …         ┆ …           ┆ … ┆ …            ┆ …            ┆ …       ┆ …            │\n",
              "  │ 17   ┆ 3    ┆ 33056.95  ┆ C2005495864 ┆ … ┆ 0.0          ┆ 0.0          ┆ 0       ┆ 0            │\n",
              "  │ 20   ┆ 3    ┆ 4740.3    ┆ C355775733  ┆ … ┆ 0.0          ┆ 0.0          ┆ 0       ┆ 0            │\n",
              "  │ 21   ┆ 3    ┆ 7275.77   ┆ C1550253906 ┆ … ┆ 0.0          ┆ 0.0          ┆ 0       ┆ 0            │\n",
              "  │ 18   ┆ 4    ┆ 109528.66 ┆ C62182585   ┆ … ┆ 9038.99      ┆ 118567.66    ┆ 0       ┆ 0            │\n",
              "  └──────┴──────┴───────────┴─────────────┴───┴──────────────┴──────────────┴─────────┴──────────────┘,\n",
              "  shape: (246, 11)\n",
              "  ┌──────┬──────┬───────────┬─────────────┬───┬──────────────┬──────────────┬─────────┬──────────────┐\n",
              "  │ step ┆ type ┆ amount    ┆ nameOrig    ┆ … ┆ oldbalanceDe ┆ newbalanceDe ┆ isFraud ┆ isFlaggedFra │\n",
              "  │ ---  ┆ ---  ┆ ---       ┆ ---         ┆   ┆ st           ┆ st           ┆ ---     ┆ ud           │\n",
              "  │ i64  ┆ str  ┆ f64       ┆ str         ┆   ┆ ---          ┆ ---          ┆ i64     ┆ ---          │\n",
              "  │      ┆      ┆           ┆             ┆   ┆ f64          ┆ f64          ┆         ┆ i64          │\n",
              "  ╞══════╪══════╪═══════════╪═════════════╪═══╪══════════════╪══════════════╪═════════╪══════════════╡\n",
              "  │ 9    ┆ 1    ┆ 178503.45 ┆ C1542642988 ┆ … ┆ 382903.28    ┆ 561406.72    ┆ 1       ┆ 0            │\n",
              "  │ 2    ┆ 1    ┆ 206985.26 ┆ C1357050524 ┆ … ┆ 1372.42      ┆ 208357.68    ┆ 1       ┆ 0            │\n",
              "  │ 13   ┆ 1    ┆ 530354.58 ┆ C1119661582 ┆ … ┆ 4.7288e6     ┆ 5.2591e6     ┆ 1       ┆ 0            │\n",
              "  │ 1    ┆ 4    ┆ 286306.33 ┆ C822440427  ┆ … ┆ 0.0          ┆ 0.0          ┆ 1       ┆ 0            │\n",
              "  │ …    ┆ …    ┆ …         ┆ …           ┆ … ┆ …            ┆ …            ┆ …       ┆ …            │\n",
              "  │ 4    ┆ 1    ┆ 59841.44  ┆ C1061422162 ┆ … ┆ 0.0          ┆ 59841.44     ┆ 1       ┆ 0            │\n",
              "  │ 16   ┆ 4    ┆ 212613.29 ┆ C1424554187 ┆ … ┆ 0.0          ┆ 0.0          ┆ 1       ┆ 0            │\n",
              "  │ 2    ┆ 1    ┆ 37065.55  ┆ C281192595  ┆ … ┆ 1.3963e6     ┆ 1.4334e6     ┆ 1       ┆ 0            │\n",
              "  │ 15   ┆ 1    ┆ 39713.28  ┆ C1404885898 ┆ … ┆ 1.2749e6     ┆ 1.3146e6     ┆ 1       ┆ 0            │\n",
              "  └──────┴──────┴───────────┴─────────────┴───┴──────────────┴──────────────┴─────────┴──────────────┘),\n",
              " (shape: (1_715_691, 11)\n",
              "  ┌──────┬──────┬───────────┬─────────────┬───┬──────────────┬──────────────┬─────────┬──────────────┐\n",
              "  │ step ┆ type ┆ amount    ┆ nameOrig    ┆ … ┆ oldbalanceDe ┆ newbalanceDe ┆ isFraud ┆ isFlaggedFra │\n",
              "  │ ---  ┆ ---  ┆ ---       ┆ ---         ┆   ┆ st           ┆ st           ┆ ---     ┆ ud           │\n",
              "  │ i64  ┆ str  ┆ f64       ┆ str         ┆   ┆ ---          ┆ ---          ┆ i64     ┆ ---          │\n",
              "  │      ┆      ┆           ┆             ┆   ┆ f64          ┆ f64          ┆         ┆ i64          │\n",
              "  ╞══════╪══════╪═══════════╪═════════════╪═══╪══════════════╪══════════════╪═════════╪══════════════╡\n",
              "  │ 1    ┆ 3    ┆ 9839.64   ┆ C1231006815 ┆ … ┆ 0.0          ┆ 0.0          ┆ 0       ┆ 0            │\n",
              "  │ 1    ┆ 3    ┆ 11668.14  ┆ C2048537720 ┆ … ┆ 0.0          ┆ 0.0          ┆ 0       ┆ 0            │\n",
              "  │ 1    ┆ 3    ┆ 7107.77   ┆ C154988899  ┆ … ┆ 0.0          ┆ 0.0          ┆ 0       ┆ 0            │\n",
              "  │ 1    ┆ 3    ┆ 7861.64   ┆ C1912850431 ┆ … ┆ 0.0          ┆ 0.0          ┆ 0       ┆ 0            │\n",
              "  │ …    ┆ …    ┆ …         ┆ …           ┆ … ┆ …            ┆ …            ┆ …       ┆ …            │\n",
              "  │ 22   ┆ 3    ┆ 8178.01   ┆ C1213413071 ┆ … ┆ 0.0          ┆ 0.0          ┆ 0       ┆ 0            │\n",
              "  │ 22   ┆ 0    ┆ 96239.74  ┆ C759614959  ┆ … ┆ 151109.37    ┆ 54869.63     ┆ 0       ┆ 0            │\n",
              "  │ 22   ┆ 1    ┆ 317177.48 ┆ C857156502  ┆ … ┆ 345042.13    ┆ 662219.61    ┆ 0       ┆ 0            │\n",
              "  │ 22   ┆ 3    ┆ 8634.29   ┆ C642813806  ┆ … ┆ 0.0          ┆ 0.0          ┆ 0       ┆ 0            │\n",
              "  └──────┴──────┴───────────┴─────────────┴───┴──────────────┴──────────────┴─────────┴──────────────┘,\n",
              "  shape: (2_214, 11)\n",
              "  ┌──────┬──────┬───────────┬─────────────┬───┬──────────────┬──────────────┬─────────┬──────────────┐\n",
              "  │ step ┆ type ┆ amount    ┆ nameOrig    ┆ … ┆ oldbalanceDe ┆ newbalanceDe ┆ isFraud ┆ isFlaggedFra │\n",
              "  │ ---  ┆ ---  ┆ ---       ┆ ---         ┆   ┆ st           ┆ st           ┆ ---     ┆ ud           │\n",
              "  │ i64  ┆ str  ┆ f64       ┆ str         ┆   ┆ ---          ┆ ---          ┆ i64     ┆ ---          │\n",
              "  │      ┆      ┆           ┆             ┆   ┆ f64          ┆ f64          ┆         ┆ i64          │\n",
              "  ╞══════╪══════╪═══════════╪═════════════╪═══╪══════════════╪══════════════╪═════════╪══════════════╡\n",
              "  │ 1    ┆ 1    ┆ 1.2772e6  ┆ C467632528  ┆ … ┆ 0.0          ┆ 2.4450e6     ┆ 1       ┆ 0            │\n",
              "  │ 1    ┆ 4    ┆ 35063.63  ┆ C1364127192 ┆ … ┆ 0.0          ┆ 0.0          ┆ 1       ┆ 0            │\n",
              "  │ 1    ┆ 4    ┆ 25071.46  ┆ C669700766  ┆ … ┆ 0.0          ┆ 0.0          ┆ 1       ┆ 0            │\n",
              "  │ 1    ┆ 1    ┆ 132842.64 ┆ C13692003   ┆ … ┆ 0.0          ┆ 132842.64    ┆ 1       ┆ 0            │\n",
              "  │ …    ┆ …    ┆ …         ┆ …           ┆ … ┆ …            ┆ …            ┆ …       ┆ …            │\n",
              "  │ 22   ┆ 1    ┆ 652993.91 ┆ C1614818636 ┆ … ┆ 0.0          ┆ 652993.91    ┆ 1       ┆ 0            │\n",
              "  │ 22   ┆ 1    ┆ 303846.74 ┆ C1148860488 ┆ … ┆ 343660.89    ┆ 647507.63    ┆ 1       ┆ 0            │\n",
              "  │ 23   ┆ 4    ┆ 850002.52 ┆ C1685995037 ┆ … ┆ 0.0          ┆ 0.0          ┆ 1       ┆ 0            │\n",
              "  │ 23   ┆ 1    ┆ 850002.52 ┆ C1280323807 ┆ … ┆ 6.5101e6     ┆ 7.3601e6     ┆ 1       ┆ 0            │\n",
              "  └──────┴──────┴───────────┴─────────────┴───┴──────────────┴──────────────┴─────────┴──────────────┘))"
            ]
          },
          "metadata": {},
          "execution_count": 33
        }
      ]
    },
    {
      "cell_type": "code",
      "source": [
        "dataframe.columns\n"
      ],
      "metadata": {
        "id": "DWIk8pnMfq-6",
        "outputId": "c965d59a-ca4a-4d7b-dd88-a03985bf229f",
        "colab": {
          "base_uri": "https://localhost:8080/"
        }
      },
      "id": "DWIk8pnMfq-6",
      "execution_count": null,
      "outputs": [
        {
          "output_type": "execute_result",
          "data": {
            "text/plain": [
              "['step',\n",
              " 'type',\n",
              " 'amount',\n",
              " 'nameOrig',\n",
              " 'oldbalanceOrg',\n",
              " 'newbalanceOrig',\n",
              " 'nameDest',\n",
              " 'oldbalanceDest',\n",
              " 'newbalanceDest',\n",
              " 'isFraud',\n",
              " 'isFlaggedFraud']"
            ]
          },
          "metadata": {},
          "execution_count": 10
        }
      ]
    },
    {
      "cell_type": "code",
      "source": [
        "len(dataframe.filter(pl.col('amount') == 0))"
      ],
      "metadata": {
        "id": "vXbbRiBUfqc2",
        "outputId": "0a90e7fe-0402-4bd8-81fa-cd268724a108",
        "colab": {
          "base_uri": "https://localhost:8080/"
        }
      },
      "id": "vXbbRiBUfqc2",
      "execution_count": null,
      "outputs": [
        {
          "output_type": "execute_result",
          "data": {
            "text/plain": [
              "16"
            ]
          },
          "metadata": {},
          "execution_count": 12
        }
      ]
    },
    {
      "cell_type": "code",
      "source": [
        "#| (pl.col('nameDest').str.starts_with('M'))   (abs(pl.col('oldbalanceOrg') - pl.col('newbalanceOrig') )) == abs( pl.col('oldbalanceDest') - pl.col('newbalanceDest'))) |\n",
        "print(len(dataframe.filter( (pl.col('nameDest').str.starts_with('M'))  )))\n",
        "print(len(dataframe.filter( (pl.col('nameOrig').str.starts_with('M'))  )))\n",
        "print(len(dataframe.filter( (pl.col('isFraud') == 1)  )))"
      ],
      "metadata": {
        "id": "dwWtDWBee8CQ",
        "outputId": "f7f672db-3fd3-44cc-9239-5eef8ffd01dc",
        "colab": {
          "base_uri": "https://localhost:8080/"
        }
      },
      "id": "dwWtDWBee8CQ",
      "execution_count": null,
      "outputs": [
        {
          "output_type": "stream",
          "name": "stdout",
          "text": [
            "2151495\n",
            "0\n",
            "8213\n"
          ]
        }
      ]
    },
    {
      "cell_type": "code",
      "source": [
        "print(len(dataframe.filter( (pl.col('nameDest').str.starts_with('M'))  |   (abs(pl.col('oldbalanceOrg') - pl.col('newbalanceOrig') ) == abs( pl.col('oldbalanceDest') - pl.col('newbalanceDest')) )           )       ))"
      ],
      "metadata": {
        "id": "RADcni_LkVc7",
        "outputId": "b863524c-7075-4298-a3ef-f22d5a524398",
        "colab": {
          "base_uri": "https://localhost:8080/"
        }
      },
      "id": "RADcni_LkVc7",
      "execution_count": null,
      "outputs": [
        {
          "output_type": "stream",
          "name": "stdout",
          "text": [
            "2393661\n"
          ]
        }
      ]
    },
    {
      "cell_type": "code",
      "source": [
        "print(len(dataframe.filter( (pl.col('isFraud') == 1) & (~pl.col('nameDest').str.starts_with('M'))  &   (abs(pl.col('oldbalanceOrg') - pl.col('newbalanceOrig') ) != abs( pl.col('oldbalanceDest') - pl.col('newbalanceDest')) )           )       ))"
      ],
      "metadata": {
        "id": "mYcPR5VTk3vo",
        "outputId": "ce56b942-ed01-4458-fcb4-c56c76539798",
        "colab": {
          "base_uri": "https://localhost:8080/"
        }
      },
      "id": "mYcPR5VTk3vo",
      "execution_count": null,
      "outputs": [
        {
          "output_type": "stream",
          "name": "stdout",
          "text": [
            "6036\n"
          ]
        }
      ]
    },
    {
      "cell_type": "code",
      "source": [
        "df = pl.DataFrame({\"a\": [1, 2, 3], \"b\": [1, 2, 3] })"
      ],
      "metadata": {
        "id": "YK4dBJXX5wjJ"
      },
      "id": "YK4dBJXX5wjJ",
      "execution_count": null,
      "outputs": []
    },
    {
      "cell_type": "code",
      "source": [
        "print(df.sample(1))\n",
        "print(df.sample(1))"
      ],
      "metadata": {
        "colab": {
          "base_uri": "https://localhost:8080/"
        },
        "id": "gzkhfx486P8C",
        "outputId": "0fe5fdf4-3c63-4113-bd5d-9ec675ddf734"
      },
      "id": "gzkhfx486P8C",
      "execution_count": null,
      "outputs": [
        {
          "output_type": "stream",
          "name": "stdout",
          "text": [
            "shape: (1, 2)\n",
            "┌─────┬─────┐\n",
            "│ a   ┆ b   │\n",
            "│ --- ┆ --- │\n",
            "│ i64 ┆ i64 │\n",
            "╞═════╪═════╡\n",
            "│ 2   ┆ 2   │\n",
            "└─────┴─────┘\n",
            "shape: (1, 2)\n",
            "┌─────┬─────┐\n",
            "│ a   ┆ b   │\n",
            "│ --- ┆ --- │\n",
            "│ i64 ┆ i64 │\n",
            "╞═════╪═════╡\n",
            "│ 2   ┆ 2   │\n",
            "└─────┴─────┘\n"
          ]
        }
      ]
    },
    {
      "cell_type": "code",
      "execution_count": null,
      "outputs": [],
      "source": [
        "class FraudDetectionDataset(Dataset):\n",
        "\n",
        "    def __init__(self,neg_data, pos_data,device):\n",
        "      self.neg_data = neg_data\n",
        "      self.pos_data = pos_data\n",
        "      self.device = device\n",
        "\n",
        "\n",
        "\n",
        "    def collate(self, pos_num, data ):\n",
        "      breakpoint()\n",
        "      pos = self.pos_data.sample_rows(pos_num)\n",
        "      data = pl.concat([pos, data])\n",
        "      name_d = create_name_dict(data)\n",
        "      x = torch.tensor([1 if y.startswith(\"M\") else 0 for y in name_d.keys()], dtype=torch.float).to(self.device)\n",
        "      data = data.with_columns(pl.col('nameOrig').replace(name_d).alias('nameOrig'), pl.col('nameDest').replace(name_d).alias('nameDest'))\n",
        "      edges = data.select(pl.col('nameOrig','nameDest'))\n",
        "      edge_index = torch.tensor(edges[['nameOrig','nameDest']].to_numpy(), dtype=torch.long).t().contiguous().to(self.device)\n",
        "      y = torch.tensor(data['isFraud'].to_numpy(), dtype=torch.float).to(self.device)\n",
        "      edge_attr =  torch.tensor(data['amount'].to_numpy(), dtype=torch.float).to(self.device)\n",
        "      data_graph = Data(x=x, edge_index=edge_index, edge_attr=edge_attr, y=y)\n",
        "      return data, data_graph\n",
        "\n",
        "\n",
        "\n",
        "\n",
        "    def __getitem__(self, index):\n",
        "      return self.neg_data.iloc[index]\n",
        "\n",
        "    def __len__(self):\n",
        "      return len(self.neg_data)\n",
        "\n",
        "    def get_dataloader(self, batch_size, pos_num):\n",
        "      return DataLoader(self, batch_size=batch_size, shuffle=False, collate_fn = self.collate(pos_num))\n",
        "\n",
        "\n",
        "\n"
      ],
      "metadata": {
        "ExecuteTime": {
          "end_time": "2023-12-23T17:08:02.228962691Z",
          "start_time": "2023-12-23T17:08:02.217735698Z"
        },
        "id": "98664b7b7cee0491"
      },
      "id": "98664b7b7cee0491"
    },
    {
      "cell_type": "code",
      "source": [
        "class FraudDetectionModule(nn.Module):\n",
        "\n",
        "  def __init__(self,gnn_in_size, gnn_out_size, linear_in_size, linear_out_size, device):\n",
        "    self.gnn = GCNConv(gnn_in_size,gnn_out_size)\n",
        "    self.classifier = nn.Linear(linear_in_size, linear_out_size)\n",
        "    self.sigmoid = nn.Sigmoid()\n",
        "    self.relu = nn.ReLU()\n",
        "    self.device = device\n",
        "\n",
        "  def forward(self,data):\n",
        "    edge_index = data[1].edge_index\n",
        "    edge_attr = data[1].edge_attr\n",
        "    x = data[1].x\n",
        "    train_edges = data[0]\n",
        "\n",
        "\n",
        "    train_features = torch.tensor(train_edges[['step','type','amount']].to_numpy(), dtype=torch.float ).to(self.device)\n",
        "\n",
        "    x = self.relu(self.gnn(x, edge_index, edge_attr))\n",
        "\n",
        "    from_nodes = torch.nan_to_num(x.squeeze()[edge_index[0,:].squeeze()])\n",
        "    dest_nodes = torch.nan_to_num(x.squeeze()[edge_index[1,:].squeeze()])\n",
        "\n",
        "    to_classify = torch.cat((from_nodes,dest_nodes,train_features), dim=1)\n",
        "\n",
        "    out = self.classifier(to_classify)\n",
        "    return out\n",
        "\n",
        "\n",
        "\n",
        "\n",
        "\n",
        "\n",
        "\n",
        "\n"
      ],
      "metadata": {
        "id": "USlHaSRjswJh"
      },
      "id": "USlHaSRjswJh",
      "execution_count": null,
      "outputs": []
    },
    {
      "cell_type": "code",
      "source": [
        "def train(model, epochs, train_dataloader, val_dataloader, loss, optimizer, f1):\n",
        "  for epoch in range(epochs):\n",
        "    # Addestramento\n",
        "    model.train()\n",
        "    train_loss_epoch = []\n",
        "    for batch_inputs in train_dataloader:\n",
        "        outputs = model(batch_inputs)\n",
        "        train_loss = loss(outputs, batch_inputs[1].y)\n",
        "        train_loss_epoch.append(train_loss)\n",
        "        optimizer.zero_grad()\n",
        "        train_loss.backward()\n",
        "        optimizer.step()\n",
        "\n",
        "    val_loss, f1_score = validate(model, val_dataloader,loss,f1)\n",
        "    print(f'Epoch [{epoch+1}/{num_epochs}], Training Loss: {train_loss_epoch.mean()}, Validation Loss: {val_loss}, f1 score = {f1_score}')\n",
        "\n",
        "\n",
        "\n",
        "\n",
        "def validate(model, dataloader, loss, f1):\n",
        "  model.eval()\n",
        "  with torch.no_grad():\n",
        "    val_loss_out = []\n",
        "    f1_out = []\n",
        "    for batch_inputs in dataloader:\n",
        "      val_outputs = model(batch_inputs)\n",
        "      val_loss = loss(val_outputs, batch_inputs[1].y)\n",
        "      val_f1 = f1(val_outputs, batch_inputs[1].y)\n",
        "      f1_out.append(val_f1)\n",
        "      val_loss_out.append(val_loss)\n",
        "  return val_loss_out.mean(), f1_out.mean()\n"
      ],
      "metadata": {
        "id": "b3RSTBWHswR8"
      },
      "id": "b3RSTBWHswR8",
      "execution_count": null,
      "outputs": []
    },
    {
      "cell_type": "code",
      "source": [
        "train_set, validation_set, test_set = divide_dataset(\"PS_20174392719_1491204439457_log.csv\",0.7,0.1)\n",
        "\n",
        "train_dataset =  FraudDetectionDataset(train_set[0], train_set[1], DEVICE)\n",
        "validation_dataset =  FraudDetectionDataset(validation_set[0], validation_set[1], DEVICE)\n",
        "\n",
        "train_loader = train_dataset.get_dataloader(NEG_SIZE,POS_SIZE)\n",
        "validation_loader = validation_dataset.get_dataloader(NEG_SIZE,POS_SIZE)"
      ],
      "metadata": {
        "id": "SrMOX0M9ULRG"
      },
      "id": "SrMOX0M9ULRG",
      "execution_count": null,
      "outputs": []
    },
    {
      "cell_type": "code",
      "source": [
        "model = FraudDetectionModule(1,8,19,1,DEVICE).to(DEVICE)"
      ],
      "metadata": {
        "id": "S459-VmNUcCv"
      },
      "id": "S459-VmNUcCv",
      "execution_count": null,
      "outputs": []
    },
    {
      "cell_type": "code",
      "execution_count": null,
      "outputs": [],
      "source": [
        "train(model,30,train_loader,validation_loader,nn.BCEWithLogitsLoss(), torch.optim.Adam(model.parameters(), lr=1e-3), torchmetrics.classification.BinaryF1Score() )"
      ],
      "metadata": {
        "is_executing": true,
        "id": "2160990145af7a44"
      },
      "id": "2160990145af7a44"
    },
    {
      "cell_type": "code",
      "execution_count": null,
      "outputs": [],
      "source": [
        "d = compute_kind_inconsistence(inconsistent_data)\n",
        "plot_histogram(d)\n",
        "names_distinct = set(dataset.raw_data[\"nameOrig\"]).union(set(dataset.raw_data[\"nameDest\"]))"
      ],
      "metadata": {
        "id": "cc0c0f288b048f2f"
      },
      "id": "cc0c0f288b048f2f"
    }
  ],
  "metadata": {
    "kernelspec": {
      "display_name": "Python 3",
      "language": "python",
      "name": "python3"
    },
    "language_info": {
      "codemirror_mode": {
        "name": "ipython",
        "version": 2
      },
      "file_extension": ".py",
      "mimetype": "text/x-python",
      "name": "python",
      "nbconvert_exporter": "python",
      "pygments_lexer": "ipython2",
      "version": "2.7.6"
    },
    "colab": {
      "provenance": []
    }
  },
  "nbformat": 4,
  "nbformat_minor": 5
}