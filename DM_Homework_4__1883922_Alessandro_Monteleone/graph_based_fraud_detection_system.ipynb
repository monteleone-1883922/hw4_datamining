{
 "cells": [
  {
   "cell_type": "code",
   "execution_count": null,
   "id": "initial_id",
   "metadata": {
    "collapsed": true
   },
   "outputs": [],
   "source": [
    "!pip install torch lightning numpy kaggle wandb"
   ]
  },
  {
   "cell_type": "code",
   "execution_count": null,
   "outputs": [],
   "source": [
    "from google.colab import files\n",
    "\n",
    "# Carica il file kaggle.json\n",
    "files.upload()\n"
   ],
   "metadata": {
    "collapsed": false
   },
   "id": "6faa4534c499941c"
  },
  {
   "cell_type": "code",
   "execution_count": null,
   "outputs": [],
   "source": [
    "!mkdir ~/.kaggle\n",
    "!mv kaggle.json ~/.kaggle/\n",
    "!chmod 600 ~/.kaggle/kaggle.json\n"
   ],
   "metadata": {
    "collapsed": false
   },
   "id": "864e92886d507f8"
  },
  {
   "cell_type": "code",
   "execution_count": null,
   "outputs": [],
   "source": [
    "!kaggle datasets download -d ealaxi/paysim1\n",
    "!unzip paysim1.zip"
   ],
   "metadata": {
    "collapsed": false
   },
   "id": "6d9167a862900129"
  },
  {
   "cell_type": "code",
   "execution_count": null,
   "outputs": [],
   "source": [
    "import pandas as pd\n",
    "from torch.utils.data import Dataset, DataLoader"
   ],
   "metadata": {
    "collapsed": false
   },
   "id": "f7010a4768825241"
  },
  {
   "cell_type": "code",
   "execution_count": null,
   "outputs": [],
   "source": [
    "class FraudDetectionDataset(Dataset):\n",
    "    \n",
    "    def __init__(self,dataset_file : str):\n",
    "        self.raw_data = self.load_dataframe(dataset_file)\n",
    "        \n",
    "    def load_dataframe(self, dataset_file : str):\n",
    "        return pd.read_csv(dataset_file)\n",
    "    \n",
    "    def analize_data(self):\n",
    "        print(self.raw_data.head())\n",
    "        print(self.raw_data.info())\n",
    "        print(self.raw_data.describe())\n",
    "\n",
    "\n",
    "        \n",
    "\n",
    "        \n",
    "    "
   ],
   "metadata": {
    "collapsed": false
   },
   "id": "98664b7b7cee0491"
  }
 ],
 "metadata": {
  "kernelspec": {
   "display_name": "Python 3",
   "language": "python",
   "name": "python3"
  },
  "language_info": {
   "codemirror_mode": {
    "name": "ipython",
    "version": 2
   },
   "file_extension": ".py",
   "mimetype": "text/x-python",
   "name": "python",
   "nbconvert_exporter": "python",
   "pygments_lexer": "ipython2",
   "version": "2.7.6"
  }
 },
 "nbformat": 4,
 "nbformat_minor": 5
}
