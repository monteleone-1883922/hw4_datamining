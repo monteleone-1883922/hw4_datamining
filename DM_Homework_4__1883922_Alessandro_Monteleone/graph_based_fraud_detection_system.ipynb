{
  "cells": [
    {
      "cell_type": "code",
      "execution_count": null,
      "id": "initial_id",
      "metadata": {
        "collapsed": true,
        "id": "initial_id"
      },
      "outputs": [],
      "source": [
        "!pip install torch lightning numpy kaggle wandb"
      ]
    },
    {
      "cell_type": "code",
      "execution_count": null,
      "outputs": [],
      "source": [
        "from google.colab import files\n",
        "\n",
        "# Carica il file kaggle.json\n",
        "files.upload()\n"
      ],
      "metadata": {
        "id": "6faa4534c499941c"
      },
      "id": "6faa4534c499941c"
    },
    {
      "cell_type": "code",
      "execution_count": null,
      "outputs": [],
      "source": [
        "!mkdir ~/.kaggle\n",
        "!mv kaggle.json ~/.kaggle/\n",
        "!chmod 600 ~/.kaggle/kaggle.json\n"
      ],
      "metadata": {
        "id": "864e92886d507f8"
      },
      "id": "864e92886d507f8"
    },
    {
      "cell_type": "code",
      "execution_count": null,
      "outputs": [],
      "source": [
        "!kaggle datasets download -d ealaxi/paysim1\n",
        "!unzip paysim1.zip"
      ],
      "metadata": {
        "id": "6d9167a862900129"
      },
      "id": "6d9167a862900129"
    },
    {
      "cell_type": "code",
      "execution_count": null,
      "outputs": [],
      "source": [
        "import pandas as pd, sys, plotly.graph_objects as go, plotly.express as px, numpy as np, torch, random as rnd, torch.nn as nn, lightning as l, wandb as wndb\n",
        "from torch.utils.data import Dataset, DataLoader\n",
        "from sklearn.utils import shuffle\n",
        "\n"
      ],
      "metadata": {
        "ExecuteTime": {
          "end_time": "2023-12-23T17:07:54.138381463Z",
          "start_time": "2023-12-23T17:07:50.727572469Z"
        },
        "id": "f7010a4768825241"
      },
      "id": "f7010a4768825241"
    },
    {
      "cell_type": "code",
      "execution_count": null,
      "outputs": [],
      "source": [
        "# PARAMETERS\n",
        "\n",
        "DEVICE = \"cuda\"\n",
        "SEED = 42\n",
        "\n",
        "rnd.seed(SEED)\n",
        "np.random.seed(SEED)\n",
        "torch.manual_seed(SEED)\n",
        "torch.backends.cudnn.deterministic = True\n",
        "\n"
      ],
      "metadata": {
        "id": "fafd9207423f48f"
      },
      "id": "fafd9207423f48f"
    },
    {
      "cell_type": "code",
      "execution_count": null,
      "outputs": [],
      "source": [
        "# UTILS FUNCTIONS\n",
        "\n",
        "def load_dataframe( dataset_file : str):\n",
        "    return pd.read_csv(dataset_file)\n",
        "\n",
        "\n",
        "def find_null_or_empty_records( dataframe: pd.DataFrame):\n",
        "    n = len(dataframe)\n",
        "    for index, row in dataframe.iterrows():\n",
        "        print_progress_bar(index/n)\n",
        "        # Controlla se ci sono valori nulli o vuoti nel record\n",
        "        if row.isnull().any() or any(map(lambda x: x == '', row)):\n",
        "            # Stampa il record\n",
        "            print(f\"Record con valori nulli o vuoti:\\n{row}\\n\")\n",
        "\n",
        "def print_progress_bar(percentuale, lunghezza_barra=20):\n",
        "    blocchi_compilati = int(lunghezza_barra * percentuale)\n",
        "    barra = \"[\" + \"=\" * (blocchi_compilati - 1) + \">\" + \" \" * (lunghezza_barra - blocchi_compilati) + \"]\"\n",
        "    sys.stdout.write(f\"\\r{barra} {percentuale * 100:.2f}% completo\")\n",
        "    sys.stdout.flush()\n",
        "\n",
        "\n",
        "def compute_kind_inconsistence(dataframe):\n",
        "    return {\"inconsistent orig balance\": len(dataframe.query('abs(oldbalanceOrg - newbalanceOrig) != amount'))/len(dataframe),\n",
        "            \"inconsistent dest balance\": len(dataframe.query('abs(oldbalanceDest - newbalanceDest) != amount'))/len(dataframe),\n",
        "            \"zero cash transaction\": len(dataframe.query('amount == 0 '))/len(dataframe),\n",
        "            \"self-transaction\": len(dataframe.query('nameOrig == nameDest'))/len(dataframe)\n",
        "            }\n",
        "\n",
        "def plot_histogram(to_plot):\n",
        "\n",
        "\n",
        "    # Converti il dizionario in un array di valori\n",
        "    values = list(to_plot.values())\n",
        "\n",
        "    # Crea un istogramma\n",
        "    fig = go.Figure(data=[go.Bar(x=list(to_plot.keys()), y=values)])\n",
        "\n",
        "    # Mostra l'istogramma\n",
        "    fig.show()\n",
        "\n",
        "\n",
        "\n",
        "def plot_categories(dataframe):\n",
        "    # Calcola la frequenza di ogni categoria nella colonna 'type'\n",
        "    counts = dataframe['type'].value_counts().reset_index()\n",
        "\n",
        "    # Rinomina le colonne\n",
        "    counts.columns = ['type', 'count']\n",
        "\n",
        "    counts['count'] = counts['count'] / counts['count'].sum()\n",
        "\n",
        "    # Crea l'istogramma con Plotly Express\n",
        "    fig = px.bar(counts, x='type', y='count', title='Istogramma delle categorie nella colonna \"type\"')\n",
        "\n",
        "    # Mostra il plot\n",
        "    fig.show()\n",
        "\n",
        "\n"
      ],
      "metadata": {
        "ExecuteTime": {
          "end_time": "2023-12-23T17:07:57.977091136Z",
          "start_time": "2023-12-23T17:07:57.964383768Z"
        },
        "id": "eb7be9ce4b817dc4"
      },
      "id": "eb7be9ce4b817dc4"
    },
    {
      "cell_type": "code",
      "execution_count": null,
      "outputs": [],
      "source": [
        "class FraudDetectionDataset(Dataset):\n",
        "\n",
        "    def __init__(self,dataset_file : str):\n",
        "        dataframe = load_dataframe(dataset_file)\n",
        "        dataframe[\"isFraud\"] = dataframe[\"isFraud\"].astype(bool)\n",
        "        dataframe[\"isFlaggedFraud\"] = dataframe[\"isFlaggedFraud\"].astype(bool)\n",
        "        self.raw_data = dataframe\n",
        "\n",
        "\n",
        "\n",
        "    def analize_data(self,find_empty_records = True):\n",
        "        print(\"----HEAD----\")\n",
        "        print(self.raw_data.head())\n",
        "        print(\"----INFO----\")\n",
        "        print(self.raw_data.info())\n",
        "        print(\"----DESCRIBE----\")\n",
        "        print(self.raw_data.describe())\n",
        "        if find_empty_records:\n",
        "          find_null_or_empty_records(self.raw_data)\n",
        "\n",
        "    def extract_inconsistent_transactions(self):\n",
        "        condiction = \"abs(oldbalanceOrg - newbalanceOrig) != amount | abs(oldbalanceDest - newbalanceDest) != amount | amount == 0 | nameOrig == nameDest\"\n",
        "\n",
        "        return self.raw_data.query(condiction)\n",
        "\n",
        "\n",
        "    def remove_inconsistent(self):\n",
        "        self.raw_data = self.raw_data.query(\"abs(oldbalanceOrg - newbalanceOrig) == abs(oldbalanceDest - newbalanceDest) & amount != 0\")\n",
        "\n",
        "\n",
        "\n",
        "\n",
        "    def balanced_batch_generator(X, y, batch_size, minority_class_percent=0.5):\n",
        "\n",
        "        majority_class_indices = np.where(y == 0)[0]\n",
        "        minority_class_indices = np.where(y == 1)[0]\n",
        "\n",
        "        minority_class_batch_size = int(batch_size * minority_class_percent)\n",
        "\n",
        "        while True:\n",
        "\n",
        "            sampled_majority_indices = np.random.choice(majority_class_indices, size=batch_size - minority_class_batch_size, replace=False)\n",
        "\n",
        "            sampled_minority_indices = np.random.choice(minority_class_indices, size=minority_class_batch_size, replace=False)\n",
        "\n",
        "            batch_indices = np.concatenate([sampled_majority_indices, sampled_minority_indices])\n",
        "\n",
        "            batch_indices = shuffle(batch_indices)\n",
        "            X_batch, y_batch = X[batch_indices], y[batch_indices]\n",
        "\n",
        "            yield X_batch, y_batch\n",
        "\n",
        "    def collate(self):\n",
        "      # trasformare batch in grafo\n",
        "\n",
        "\n",
        "\n",
        ""
      ],
      "metadata": {
        "ExecuteTime": {
          "end_time": "2023-12-23T17:08:02.228962691Z",
          "start_time": "2023-12-23T17:08:02.217735698Z"
        },
        "id": "98664b7b7cee0491"
      },
      "id": "98664b7b7cee0491"
    },
    {
      "cell_type": "code",
      "execution_count": null,
      "outputs": [],
      "source": [
        "dataset = FraudDetectionDataset(\"PS_20174392719_1491204439457_log.csv\")\n",
        "inconsistent_data = dataset.extract_inconsistent_transactions()"
      ],
      "metadata": {
        "is_executing": true,
        "id": "2160990145af7a44"
      },
      "id": "2160990145af7a44"
    },
    {
      "cell_type": "code",
      "execution_count": null,
      "outputs": [],
      "source": [
        "d = compute_kind_inconsistence(inconsistent_data)\n",
        "plot_histogram(d)\n",
        "names_distinct = set(dataset.raw_data[\"nameOrig\"]).union(set(dataset.raw_data[\"nameDest\"]))"
      ],
      "metadata": {
        "id": "cc0c0f288b048f2f"
      },
      "id": "cc0c0f288b048f2f"
    },
    {
      "cell_type": "code",
      "execution_count": null,
      "outputs": [],
      "source": [
        "dataset.analize_data(find_empty_records=False)\n",
        "print(\"inconsistent fraud\")\n",
        "print(len(inconsistent_data.query('isFraud == 1'))/len(inconsistent_data))\n",
        "print(\"inconsistent not fraud\")\n",
        "print(len(inconsistent_data.query('isFraud == 0'))/len(inconsistent_data))\n",
        "print(\"given > gotten\")\n",
        "print(len(dataset.raw_data.query(\"abs(oldbalanceOrg - newbalanceOrig) > abs(oldbalanceDest - newbalanceDest)\"))/len(inconsistent_data))\n",
        "print(\"given < gotten\")\n",
        "print(len(dataset.raw_data.query(\"abs(oldbalanceOrg - newbalanceOrig) < abs(oldbalanceDest - newbalanceDest)\"))/len(inconsistent_data))\n",
        "print(\"distinct origin name\")\n",
        "print(dataset.raw_data[\"nameOrig\"].nunique())\n",
        "print(\"distinct names\")\n",
        "print(len(names_distinct))\n",
        "print(\"isFlaggedFraud and isFraud\")\n",
        "print(len(dataset.raw_data.query(\"isFlaggedFraud & isFraud\"))/len(dataset.raw_data.query(\"isFraud\")))\n",
        "plot_categories(dataset.raw_data)\n"
      ],
      "metadata": {
        "id": "3eaef19ad9fb8572"
      },
      "id": "3eaef19ad9fb8572"
    }
  ],
  "metadata": {
    "kernelspec": {
      "display_name": "Python 3",
      "language": "python",
      "name": "python3"
    },
    "language_info": {
      "codemirror_mode": {
        "name": "ipython",
        "version": 2
      },
      "file_extension": ".py",
      "mimetype": "text/x-python",
      "name": "python",
      "nbconvert_exporter": "python",
      "pygments_lexer": "ipython2",
      "version": "2.7.6"
    },
    "colab": {
      "provenance": []
    }
  },
  "nbformat": 4,
  "nbformat_minor": 5
}