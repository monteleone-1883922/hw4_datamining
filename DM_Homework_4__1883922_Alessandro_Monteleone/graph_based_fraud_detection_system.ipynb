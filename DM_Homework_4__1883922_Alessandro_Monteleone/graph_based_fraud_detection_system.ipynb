{
 "cells": [
  {
   "cell_type": "code",
   "execution_count": null,
   "id": "initial_id",
   "metadata": {
    "collapsed": true
   },
   "outputs": [],
   "source": [
    "!pip install torch lightning numpy kaggle wandb"
   ]
  },
  {
   "cell_type": "code",
   "execution_count": null,
   "outputs": [],
   "source": [
    "from google.colab import files\n",
    "\n",
    "# Carica il file kaggle.json\n",
    "files.upload()\n"
   ],
   "metadata": {
    "collapsed": false
   },
   "id": "6faa4534c499941c"
  },
  {
   "cell_type": "code",
   "execution_count": null,
   "outputs": [],
   "source": [
    "!mkdir ~/.kaggle\n",
    "!mv kaggle.json ~/.kaggle/\n",
    "!chmod 600 ~/.kaggle/kaggle.json\n"
   ],
   "metadata": {
    "collapsed": false
   },
   "id": "864e92886d507f8"
  },
  {
   "cell_type": "code",
   "execution_count": null,
   "outputs": [],
   "source": [
    "!kaggle datasets download -d ealaxi/paysim1\n",
    "!unzip paysim1.zip"
   ],
   "metadata": {
    "collapsed": false
   },
   "id": "6d9167a862900129"
  },
  {
   "cell_type": "code",
   "execution_count": null,
   "outputs": [],
   "source": [
    "import pandas as pd, sys\n",
    "from torch.utils.data import Dataset, DataLoader"
   ],
   "metadata": {
    "collapsed": false
   },
   "id": "f7010a4768825241"
  },
  {
   "cell_type": "code",
   "execution_count": null,
   "outputs": [],
   "source": [
    "# PARAMETERS\n",
    "\n",
    "device = \"cuda\""
   ],
   "metadata": {
    "collapsed": false
   },
   "id": "fafd9207423f48f"
  },
  {
   "cell_type": "code",
   "execution_count": null,
   "outputs": [],
   "source": [
    "# UTILS FUNCTIONS\n",
    "\n",
    "def load_dataframe( dataset_file : str):\n",
    "    return pd.read_csv(dataset_file)\n",
    "\n",
    "\n",
    "def find_null_or_empty_records( dataframe: pd.DataFrame):\n",
    "    n = len(dataframe)\n",
    "    for index, row in dataframe.iterrows():\n",
    "        print_progress_bar(index/n)\n",
    "        # Controlla se ci sono valori nulli o vuoti nel record\n",
    "        if row.isnull().any() or any(map(lambda x: x == '', row)):\n",
    "            # Stampa il record\n",
    "            print(f\"Record con valori nulli o vuoti:\\n{row}\\n\")\n",
    "            \n",
    "def print_progress_bar(percentuale, lunghezza_barra=20):\n",
    "    blocchi_compilati = int(lunghezza_barra * percentuale)\n",
    "    barra = \"[\" + \"=\" * (blocchi_compilati - 1) + \">\" + \" \" * (lunghezza_barra - blocchi_compilati) + \"]\"\n",
    "    sys.stdout.write(f\"\\r{barra} {percentuale * 100:.2f}% completo\")\n",
    "    sys.stdout.flush()\n"
   ],
   "metadata": {
    "collapsed": false
   },
   "id": "eb7be9ce4b817dc4"
  },
  {
   "cell_type": "code",
   "execution_count": null,
   "outputs": [],
   "source": [
    "class FraudDetectionDataset(Dataset):\n",
    "    \n",
    "    def __init__(self,dataset_file : str):\n",
    "        self.raw_data = load_dataframe(dataset_file)\n",
    "        \n",
    "\n",
    "    def analize_data(self):\n",
    "        print(\"----HEAD----\")\n",
    "        print(self.raw_data.head())\n",
    "        print(\"----INFO----\")\n",
    "        print(self.raw_data.info())\n",
    "        print(\"----DESCRIBE----\")\n",
    "        print(self.raw_data.describe())\n",
    "        find_null_or_empty_records(self.raw_data)\n",
    "        \n",
    "    def extract_inconsistent_transactions(self):\n",
    "        condiction = \"abs(oldbalanceOrg - newbalanceOrg) != amount | abs(oldbalanceDest - newbalanceDest) != amount | amount == 0 | nameOrig == nameDest\"\n",
    "            \n",
    "        return self.raw_data.eval(condiction)\n",
    "    \n",
    "        \n",
    "    "
   ],
   "metadata": {
    "collapsed": false
   },
   "id": "98664b7b7cee0491"
  },
  {
   "cell_type": "code",
   "execution_count": null,
   "outputs": [],
   "source": [
    "# TEST\n",
    "\n",
    "dataset = FraudDetectionDataset(\"PS_20174392719_1491204439457_log.csv\")\n",
    "inconsistent_data = dataset.extract_inconsistent_transactions()"
   ],
   "metadata": {
    "collapsed": false
   },
   "id": "2160990145af7a44"
  }
 ],
 "metadata": {
  "kernelspec": {
   "display_name": "Python 3",
   "language": "python",
   "name": "python3"
  },
  "language_info": {
   "codemirror_mode": {
    "name": "ipython",
    "version": 2
   },
   "file_extension": ".py",
   "mimetype": "text/x-python",
   "name": "python",
   "nbconvert_exporter": "python",
   "pygments_lexer": "ipython2",
   "version": "2.7.6"
  }
 },
 "nbformat": 4,
 "nbformat_minor": 5
}
